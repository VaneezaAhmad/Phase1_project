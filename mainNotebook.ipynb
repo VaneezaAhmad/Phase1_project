{
 "cells": [
  {
   "cell_type": "code",
   "execution_count": 1,
   "metadata": {},
   "outputs": [],
   "source": [
    "import pandas as pd\n",
    "import matplotlib.pyplot as plt\n",
    "import numpy as np\n",
    "from helperfunc import *\n"
   ]
  },
  {
   "cell_type": "code",
   "execution_count": 2,
   "metadata": {},
   "outputs": [
    {
     "name": "stdout",
     "output_type": "stream",
     "text": [
      "50\n",
      "200\n",
      "100\n",
      "200\n",
      "150\n",
      "200\n",
      "200\n",
      "200\n",
      "250\n",
      "200\n",
      "300\n",
      "200\n",
      "350\n",
      "200\n",
      "400\n",
      "200\n",
      "450\n",
      "200\n",
      "500\n",
      "200\n",
      "550\n",
      "200\n",
      "600\n",
      "200\n",
      "650\n",
      "200\n",
      "700\n",
      "200\n",
      "750\n",
      "200\n",
      "800\n",
      "200\n",
      "850\n",
      "200\n",
      "900\n",
      "200\n",
      "950\n",
      "200\n",
      "1000\n",
      "200\n"
     ]
    }
   ],
   "source": [
    "cur = 0\n",
    "num=url_params['limit']\n",
    "\n",
    "#set up a while loop to go through and grab the result \n",
    "while cur < num and cur < 199:\n",
    "    print(num)\n",
    "    #set the offset parameter to be where you currently are in the results \n",
    "    url_params['offset'] = cur\n",
    "    #make your API call with the new offset number\n",
    "    results = api_call(url_params, creds[\"key\"])\n",
    "    \n",
    "    #after you get your results you can now use your function to parse those results\n",
    "    parsed_results = parse_results(results)\n",
    "    num+=len(parsed_results)\n",
    "    # use your function to insert your parsed results into the db\n",
    "    df_safe(filepath, parsed_results)\n",
    "    #increment the counter by 50 to move on to the next results\n",
    "    cur += 10"
   ]
  }
 ],
 "metadata": {
  "kernelspec": {
   "display_name": "Python 3",
   "language": "python",
   "name": "python3"
  },
  "language_info": {
   "codemirror_mode": {
    "name": "ipython",
    "version": 3
   },
   "file_extension": ".py",
   "mimetype": "text/x-python",
   "name": "python",
   "nbconvert_exporter": "python",
   "pygments_lexer": "ipython3",
   "version": "3.8.5"
  }
 },
 "nbformat": 4,
 "nbformat_minor": 4
}
